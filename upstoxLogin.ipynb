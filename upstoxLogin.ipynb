{
  "nbformat": 4,
  "nbformat_minor": 0,
  "metadata": {
    "colab": {
      "provenance": [],
      "authorship_tag": "ABX9TyNmXEPt540p+tuHFk04R2rz",
      "include_colab_link": true
    },
    "kernelspec": {
      "name": "python3",
      "display_name": "Python 3"
    },
    "language_info": {
      "name": "python"
    }
  },
  "cells": [
    {
      "cell_type": "markdown",
      "metadata": {
        "id": "view-in-github",
        "colab_type": "text"
      },
      "source": [
        "<a href=\"https://colab.research.google.com/github/san39/Algos/blob/main/upstoxLogin.ipynb\" target=\"_parent\"><img src=\"https://colab.research.google.com/assets/colab-badge.svg\" alt=\"Open In Colab\"/></a>"
      ]
    },
    {
      "cell_type": "code",
      "execution_count": 1,
      "metadata": {
        "id": "-wtJu1xMrSxC"
      },
      "outputs": [],
      "source": [
        "import urllib.parse\n",
        "import pandas as pd\n",
        "import requests"
      ]
    },
    {
      "cell_type": "code",
      "source": [
        "apiKey = '45f740f4-e539-4122-a8e6-dee1740f04b6'\n",
        "secretKey = 'uuh06c0gn5'\n",
        "rurl = urllib.parse.quote('https://127.0.0.1:5000/',safe =\"\")"
      ],
      "metadata": {
        "id": "Bf7_OHSvrj_O"
      },
      "execution_count": 18,
      "outputs": []
    },
    {
      "cell_type": "code",
      "source": [
        "rurl"
      ],
      "metadata": {
        "colab": {
          "base_uri": "https://localhost:8080/",
          "height": 36
        },
        "id": "embfh4tywped",
        "outputId": "c5e72379-ebbf-475e-891d-5af82affa7cd"
      },
      "execution_count": 10,
      "outputs": [
        {
          "output_type": "execute_result",
          "data": {
            "text/plain": [
              "'https%3A%2F%2F127.0.0.1%3A5000%2F'"
            ],
            "application/vnd.google.colaboratory.intrinsic+json": {
              "type": "string"
            }
          },
          "metadata": {},
          "execution_count": 10
        }
      ]
    },
    {
      "cell_type": "code",
      "source": [
        "uri= f'https://api-v2.upstox.com/login/authorization/dialog?response_type=code&client_id={apiKey}&redirect_uri={rurl}'\n",
        "uri"
      ],
      "metadata": {
        "colab": {
          "base_uri": "https://localhost:8080/",
          "height": 53
        },
        "id": "ugPNd0TcsGOu",
        "outputId": "8d0fc85b-1278-456c-a430-88a313701693"
      },
      "execution_count": 19,
      "outputs": [
        {
          "output_type": "execute_result",
          "data": {
            "text/plain": [
              "'https://api-v2.upstox.com/login/authorization/dialog?response_type=code&client_id=45f740f4-e539-4122-a8e6-dee1740f04b6&redirect_uri=https%3A%2F%2F127.0.0.1%3A5000%2F'"
            ],
            "application/vnd.google.colaboratory.intrinsic+json": {
              "type": "string"
            }
          },
          "metadata": {},
          "execution_count": 19
        }
      ]
    },
    {
      "cell_type": "code",
      "source": [
        "code = '4GWnJK'"
      ],
      "metadata": {
        "id": "y7RJBFkx1Bf6"
      },
      "execution_count": 23,
      "outputs": []
    },
    {
      "cell_type": "code",
      "source": [
        "url = 'https://api-v2.upstox.com/login/authorization/token'\n",
        "\n",
        "headers = {\n",
        "    'accept': 'application/json',\n",
        "    'Api-Version': '2.0',\n",
        "    'Content-Type': 'application/x-www-form-urlencoded'\n",
        "}\n",
        "\n",
        "data = {\n",
        "    'code': code,\n",
        "    'client_id': apiKey,\n",
        "    'client_secret': secretKey,\n",
        "    'redirect_uri': 'https://127.0.0.1:5000/',\n",
        "    'grant_type': 'authorization_code'\n",
        "}\n",
        "\n",
        "response = requests.post(url, headers=headers, data=data)\n",
        "json_response = response.json()\n",
        "\n",
        "json_response"
      ],
      "metadata": {
        "colab": {
          "base_uri": "https://localhost:8080/"
        },
        "id": "eOCyMm6n1JDD",
        "outputId": "aa856533-e07a-498f-d2a3-a4fe9204cd93"
      },
      "execution_count": 24,
      "outputs": [
        {
          "output_type": "execute_result",
          "data": {
            "text/plain": [
              "{'status': 'error',\n",
              " 'errors': [{'errorCode': 'UDAPI100058',\n",
              "   'message': 'No segments for these users are active. Manual reactivation is recommended from Upstox app/web.',\n",
              "   'propertyPath': None,\n",
              "   'invalidValue': None,\n",
              "   'error_code': 'UDAPI100058',\n",
              "   'property_path': None,\n",
              "   'invalid_value': None}]}"
            ]
          },
          "metadata": {},
          "execution_count": 24
        }
      ]
    }
  ]
}